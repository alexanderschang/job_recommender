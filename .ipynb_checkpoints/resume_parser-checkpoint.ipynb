{
 "cells": [
  {
   "cell_type": "markdown",
   "metadata": {},
   "source": [
    "# Resume Parser - Named Entity Recognition"
   ]
  },
  {
   "cell_type": "code",
   "execution_count": 56,
   "metadata": {},
   "outputs": [],
   "source": [
    "import spacy\n",
    "import pickle\n",
    "import random\n",
    "import matplotlib.pyplot as plt"
   ]
  },
  {
   "cell_type": "code",
   "execution_count": 92,
   "metadata": {},
   "outputs": [
    {
     "data": {
      "image/png": "[encoded data removed]",
      "text/plain": [
       "<Figure size 720x576 with 1 Axes>"
      ]
     },
     "metadata": {
      "needs_background": "light"
     },
     "output_type": "display_data"
    }
   ],
   "source": [
    "train_data = pickle.load(open('train_data.pkl', 'rb'))\n",
    "nlp = spacy.blank('en')\n",
    "\n",
    "def train_model(train_data):\n",
    "    if 'ner' not in nlp.pipe_names:\n",
    "        ner = nlp.create_pipe('ner')\n",
    "        nlp.add_pipe(ner, last=True)\n",
    "        \n",
    "    for _, annotation in train_data:\n",
    "        for entity in annotation['entities']:\n",
    "            ner.add_label(entity[2])\n",
    "    \n",
    "    other_pipes = [pipe for pipe in nlp.pipe_names if pipe != 'ner']\n",
    "    \n",
    "    with nlp.disable_pipes(*other_pipes): # only train NER\n",
    "        optimizer = nlp.begin_training()\n",
    "        loss_values = []\n",
    "        \n",
    "        for i in range(100):\n",
    "            #print(\"Starting iteration \" + str(i))\n",
    "            random.shuffle(train_data)\n",
    "            losses = {}\n",
    "            index = 0\n",
    "            \n",
    "            for text, annotations in train_data:\n",
    "                try:\n",
    "                    nlp.update([text], # batch of texts\n",
    "                              [annotations], # bach of annotations\n",
    "                              drop=0.2, # dropout - harder to memorize\n",
    "                              sgd=optimizer, # callable to update weights\n",
    "                              losses=losses)\n",
    "                except Exception as e:\n",
    "                    pass\n",
    "                \n",
    "            loss = losses['ner']\n",
    "            loss_values.append(loss)\n",
    "            #print(loss)           \n",
    "        \n",
    "        plt.figure(figsize=(10,8))\n",
    "        plt.plot(loss_values)\n",
    "        plt.xlabel(\"Epochs\", fontsize=18)\n",
    "        plt.ylabel(\"Loss\", fontsize=18)\n",
    "        plt.show()\n",
    "\n",
    "train_model(train_data)"
   ]
  },
  {
   "cell_type": "markdown",
   "metadata": {},
   "source": [
    "## Saving & loading trained model"
   ]
  },
  {
   "cell_type": "code",
   "execution_count": 8,
   "metadata": {},
   "outputs": [
    {
     "name": "stderr",
     "output_type": "stream",
     "text": [
      "/usr/local/lib/python3.7/site-packages/spacy/util.py:271: UserWarning: [W031] Model 'en_core_web_sm' (2.2.5) requires spaCy v2.2 and is incompatible with the current spaCy version (2.3.0). This may lead to unexpected results or runtime errors. To resolve this, download a newer compatible model or retrain your custom model with the current spaCy version. For more details and available updates, run: python -m spacy validate\n",
      "  warnings.warn(warn_msg)\n"
     ]
    }
   ],
   "source": [
    "import spacy\n",
    "from spacy.matcher import Matcher\n",
    "from spacy.tokens import Span\n",
    "from spacy import displacy\n",
    "#import en_core_web_sm\n",
    "\n",
    "nlp = spacy.load(\"en_core_web_sm\")\n",
    "\n",
    "nlp.to_disk('nlp_model_ner')\n",
    "nlp_model = spacy.load('nlp_model_ner')"
   ]
  },
  {
   "cell_type": "markdown",
   "metadata": {},
   "source": [
    "# Resume Data Cleaning"
   ]
  },
  {
   "cell_type": "code",
   "execution_count": 3,
   "metadata": {},
   "outputs": [],
   "source": [
    "import fitz, sys\n",
    "import re\n",
    "\n",
    "file = 'ChangAlexander2021.pdf'\n",
    "doc = fitz.open(file)\n",
    "text = \"\"\n",
    "for page in doc:\n",
    "    text = text + str(page.getText())\n",
    "    \n",
    "# Split text by next line \n",
    "tx = \" \".join(text.split('\\n'))\n",
    "#cleaned_tx = re.sub(r'[§_()|]','',tx)\n",
    "\n",
    "# Remove unnecessary punctuations\n",
    "cleaned_tx = re.sub(r'[§_|]', '', tx)\n",
    "\n",
    "# Remove/extract phone numbers\n",
    "pattern = re.compile(r'([+(]?\\d+[)\\-]?[ \\t\\r\\f\\v]*[(]?\\d{2,}[()\\-]?[ \\t\\r\\f\\v]*\\d{2,}[()\\-]?[ \\t\\r\\f\\v]*\\d*[ \\t\\r\\f\\v]*\\d*[ \\t\\r\\f\\v]*)')\n",
    "match = pattern.findall(cleaned_tx)\n",
    "match = [re.sub(r'[,.]', '', el) for el in match if \n",
    "        len(re.sub(r'[()\\-.,\\s+]', '', el)) > 6]\n",
    "match = [re.sub(r'\\D$', '', el).strip() for el in match]\n",
    "phoneNum_match = [el for el in match if len(re.sub(r'\\D', '', el)) <= 15]\n",
    "phoneNum_match = ' '.join([str(elem) for elem in phoneNum_match])\n",
    "cleaned_tx = cleaned_tx.replace(phoneNum_match, '')\n",
    "\n",
    "# Get email\n",
    "email_pattern = re.compile(r'\\S*@\\S*')\n",
    "email_match = email_pattern.findall(cleaned_tx)\n",
    "email_match = ' '.join([str(elem) for elem in email_match])\n",
    "cleaned_tx = cleaned_tx.replace(email_match, '')\n"
   ]
  },
  {
   "cell_type": "code",
   "execution_count": 12,
   "metadata": {},
   "outputs": [],
   "source": [
    "import fitz, sys\n",
    "import pandas as pd\n",
    "import re\n",
    "import texthero as hero\n",
    "from texthero import preprocessing\n",
    "\n",
    "# Further text preprocessing using texthero \n",
    "resume_df = pd.DataFrame([cleaned_tx], columns=['resume'])\n",
    "df2 = pd.DataFrame()\n",
    "\n",
    "custom_pipeline = [preprocessing.lowercase,\n",
    "                  preprocessing.remove_digits,\n",
    "                  preprocessing.remove_punctuation,\n",
    "                  preprocessing.remove_diacritics,\n",
    "                  preprocessing.remove_whitespace]\n",
    "                  #preprocessing.stem]\n",
    "\n",
    "df2['cleaned'] = hero.clean(resume_df['resume'],\n",
    "                                        pipeline=custom_pipeline)\n",
    "pd.set_option('max_colwidth', 100000)\n",
    "cleaned_resume = df2['cleaned'].to_string(index = False) \n",
    "#print(cleaned_resume)"
   ]
  },
  {
   "cell_type": "markdown",
   "metadata": {},
   "source": [
    "# Testing Pre-Trained Model on Resume"
   ]
  },
  {
   "cell_type": "code",
   "execution_count": 17,
   "metadata": {},
   "outputs": [
    {
     "name": "stdout",
     "output_type": "stream",
     "text": [
      "PERSON                        - alexander s chang\n",
      "ORG                           - baltimore md education\n",
      "ORG                           - johns hopkins university\n",
      "GPE                           - baltimore\n",
      "PRODUCT                       - statistics m s e\n",
      "PRODUCT                       - s computer\n",
      "ORG                           - fifa mobile\n",
      "ORG                           - algorithm\n",
      "ORG                           - nlp\n",
      "DATE                          - august - may\n",
      "ORG                           - cnn\n",
      "GPE                           - new york\n",
      "GPE                           - new york\n",
      "DATE                          - june - august\n",
      "CARDINAL                      - three\n",
      "ORG                           - mongodb\n",
      "DATE                          - monthly\n",
      "ORG                           - johns hopkins scheduling group\n",
      "GPE                           - baltimore\n",
      "GPE                           - maryland\n",
      "DATE                          - february - december\n",
      "ORG                           - minor league baseball season\n",
      "ORG                           - the florida state league\n",
      "ORG                           - the texas league\n",
      "ORG                           - ecomap technologies inc\n",
      "GPE                           - maryland\n",
      "DATE                          - june - august\n",
      "GPE                           - maryland\n",
      "GPE                           - baltimore\n",
      "ORG                           - innov8md\n",
      "ORG                           - the dc\n",
      "PERSON                        - grant alpha kappa\n",
      "GPE                           - baltimore\n",
      "GPE                           - maryland\n",
      "DATE                          - january - may\n",
      "DATE                          - june\n",
      "ORG                           - nba predictive analytics\n",
      "DATE                          - october - january\n",
      "GPE                           - python\n",
      "ORG                           - nba\n",
      "ORG                           - sql\n",
      "ORG                           - microsoft\n",
      "PRODUCT                       - excel\n",
      "LANGUAGE                      - english\n",
      "NORP                          - mandarin chinese\n"
     ]
    }
   ],
   "source": [
    "doc = nlp_model(cleaned_resume)\n",
    "for ent in doc.ents:\n",
    "    print(f'{ent.label_.upper():{30}}- {ent.text}')"
   ]
  },
  {
   "cell_type": "code",
   "execution_count": null,
   "metadata": {},
   "outputs": [],
   "source": []
  },
  {
   "cell_type": "code",
   "execution_count": 15,
   "metadata": {},
   "outputs": [
    {
     "name": "stdout",
     "output_type": "stream",
     "text": [
      "PERSON                        - Alexander S. Chang\n",
      "GPE                           - Baltimore\n",
      "ORG                           - Johns Hopkins University\n",
      "GPE                           - Baltimore\n",
      "GPE                           - Maryland\n",
      "GPE                           - B.S.\n",
      "ORG                           - Applied Mathematics\n",
      "ORG                           - Statistics / M.S.E.\n",
      "DATE                          - May 2020 / 2021\n",
      "ORG                           - M.S.E.\n",
      "ORG                           - Data Analysis\n",
      "GPE                           - Machine Learning\n",
      "ORG                           - Data Mining\n",
      "ORG                           - Natural  Language Processing\n",
      "ORG                           - Professional Writing and Communication\n",
      "ORG                           - Electronic Arts (EA\n",
      "DATE                          - May 2020\n",
      "ORG                           - the Text Analytics Platform\n",
      "ORG                           - Built\n",
      "ORG                           - FIFA Mobile\n",
      "ORG                           - Natural Language Processing\n",
      "ORG                           - NLP\n",
      "ORG                           - Hopkins Extreme Materials Institute\n",
      "GPE                           - Baltimore\n",
      "GPE                           - Maryland\n",
      "DATE                          - August 2019\n",
      "DATE                          - May 2020\n",
      "PRODUCT                       - TensorFlow\n",
      "ORG                           - k-Fold Cross Validation\n",
      "PERCENT                       - 1.7%\n",
      "GPE                           - New York\n",
      "GPE                           - New York\n",
      "DATE                          - June 2019\n",
      "DATE                          - August 2019\n",
      "CARDINAL                      - three\n",
      "ORG                           - K-Means Clustering\n",
      "DATE                          - monthly\n",
      "PERCENT                       - 9%\n",
      "PERCENT                       - 1.4%\n",
      "CARDINAL                      - 10\n",
      "GPE                           - Python\n",
      "ORG                           - Tableau\n",
      "ORG                           - Growth Marketing\n",
      "PERSON                        - Atlas\n",
      "ORG                           - Johns Hopkins Scheduling Group\n",
      "GPE                           - Baltimore\n",
      "GPE                           - Maryland\n",
      "ORG                           - Operations Research Analyst\n",
      "DATE                          - February 2019\n",
      "DATE                          - December 2019\n",
      "ORG                           - Optimized Minor League Baseball\n",
      "DATE                          - season\n",
      "ORG                           - the Florida State League\n",
      "ORG                           - the Texas League\n",
      "ORG                           - MATLAB\n",
      "DATE                          - days\n",
      "QUANTITY                      - 70 miles\n",
      "CARDINAL                      - 3\n",
      "ORG                           - LEADERSHIP & ACTIVITIES   \n",
      "GPE                           - Baltimore\n",
      "GPE                           - Maryland\n",
      "DATE                          - June 2018\n",
      "DATE                          - August 2019\n",
      "MONEY                         - 60,000\n",
      "CARDINAL                      - 6\n",
      "GPE                           - Maryland\n",
      "GPE                           - Baltimore\n",
      "PERSON                        - Innov8MD\n",
      "WORK_OF_ART                   - the Spark Grant   Alpha Kappa Psi – Professional Business Fraternity                                          Baltimore\n",
      "GPE                           - Maryland\n",
      "DATE                          - January 2018\n",
      "DATE                          - May 2019\n",
      "ORG                           - Consulting\n",
      "CARDINAL                      - 5\n",
      "MONEY                         - over $5,000\n",
      "PERCENT                       - roughly 30%\n",
      "ORG                           - PROJECTS\n",
      "DATE                          - June 2020\n",
      "CARDINAL                      - 5000\n",
      "ORG                           - NBA Predictive Analytics\n",
      "DATE                          - October 2019\n",
      "DATE                          - January 2020\n",
      "ORG                           - Multiple Linear Regression\n",
      "GPE                           - Python\n",
      "ORG                           - NBA\n",
      "ORG                           - SKILLS & INTERESTS\n",
      "ORG                           - SQL\n",
      "ORG                           - Tableau\n",
      "ORG                           - MATLAB\n",
      "PERSON                        - Microsoft Excel\n",
      "ORG                           - PowerPoint\n",
      "LANGUAGE                      - English\n",
      "NORP                          - Mandarin Chinese\n"
     ]
    }
   ],
   "source": [
    "doc = nlp_model(cleaned_tx)\n",
    "for ent in doc.ents:\n",
    "    print(f'{ent.label_.upper():{30}}- {ent.text}')"
   ]
  },
  {
   "cell_type": "code",
   "execution_count": null,
   "metadata": {},
   "outputs": [],
   "source": []
  }
 ],
 "metadata": {
  "kernelspec": {
   "display_name": "Python 3",
   "language": "python",
   "name": "python3"
  },
  "language_info": {
   "codemirror_mode": {
    "name": "ipython",
    "version": 3
   },
   "file_extension": ".py",
   "mimetype": "text/x-python",
   "name": "python",
   "nbconvert_exporter": "python",
   "pygments_lexer": "ipython3",
   "version": "3.7.7"
  }
 },
 "nbformat": 4,
 "nbformat_minor": 4
}
